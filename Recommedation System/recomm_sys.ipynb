{
 "cells": [
  {
   "cell_type": "code",
   "execution_count": 1,
   "metadata": {},
   "outputs": [],
   "source": [
    "import pandas as pd\n",
    "from random import randint"
   ]
  },
  {
   "cell_type": "code",
   "execution_count": 2,
   "metadata": {},
   "outputs": [],
   "source": [
    "from generate_dataset import generate_data\n",
    "df = generate_data(dataset_size=100000)\n"
   ]
  },
  {
   "cell_type": "code",
   "execution_count": 3,
   "metadata": {},
   "outputs": [
    {
     "data": {
      "text/html": [
       "<div>\n",
       "<style scoped>\n",
       "    .dataframe tbody tr th:only-of-type {\n",
       "        vertical-align: middle;\n",
       "    }\n",
       "\n",
       "    .dataframe tbody tr th {\n",
       "        vertical-align: top;\n",
       "    }\n",
       "\n",
       "    .dataframe thead th {\n",
       "        text-align: right;\n",
       "    }\n",
       "</style>\n",
       "<table border=\"1\" class=\"dataframe\">\n",
       "  <thead>\n",
       "    <tr style=\"text-align: right;\">\n",
       "      <th></th>\n",
       "      <th>book_id</th>\n",
       "      <th>author_id</th>\n",
       "      <th>book_genre</th>\n",
       "      <th>reader_id</th>\n",
       "      <th>num_pages</th>\n",
       "      <th>book_rating</th>\n",
       "      <th>unlisher_id</th>\n",
       "      <th>publisher_year</th>\n",
       "      <th>book_price</th>\n",
       "      <th>text_lang</th>\n",
       "    </tr>\n",
       "  </thead>\n",
       "  <tbody>\n",
       "    <tr>\n",
       "      <th>99995</th>\n",
       "      <td>1951</td>\n",
       "      <td>355</td>\n",
       "      <td>9</td>\n",
       "      <td>26006</td>\n",
       "      <td>100</td>\n",
       "      <td>8</td>\n",
       "      <td>49</td>\n",
       "      <td>2013</td>\n",
       "      <td>162</td>\n",
       "      <td>4</td>\n",
       "    </tr>\n",
       "    <tr>\n",
       "      <th>99996</th>\n",
       "      <td>2720</td>\n",
       "      <td>409</td>\n",
       "      <td>3</td>\n",
       "      <td>4604</td>\n",
       "      <td>93</td>\n",
       "      <td>6</td>\n",
       "      <td>36</td>\n",
       "      <td>2008</td>\n",
       "      <td>189</td>\n",
       "      <td>5</td>\n",
       "    </tr>\n",
       "    <tr>\n",
       "      <th>99997</th>\n",
       "      <td>441</td>\n",
       "      <td>447</td>\n",
       "      <td>4</td>\n",
       "      <td>28843</td>\n",
       "      <td>90</td>\n",
       "      <td>5</td>\n",
       "      <td>19</td>\n",
       "      <td>2009</td>\n",
       "      <td>155</td>\n",
       "      <td>7</td>\n",
       "    </tr>\n",
       "    <tr>\n",
       "      <th>99998</th>\n",
       "      <td>2610</td>\n",
       "      <td>185</td>\n",
       "      <td>6</td>\n",
       "      <td>15477</td>\n",
       "      <td>93</td>\n",
       "      <td>4</td>\n",
       "      <td>23</td>\n",
       "      <td>2017</td>\n",
       "      <td>72</td>\n",
       "      <td>7</td>\n",
       "    </tr>\n",
       "    <tr>\n",
       "      <th>99999</th>\n",
       "      <td>1920</td>\n",
       "      <td>329</td>\n",
       "      <td>4</td>\n",
       "      <td>11991</td>\n",
       "      <td>88</td>\n",
       "      <td>10</td>\n",
       "      <td>19</td>\n",
       "      <td>2002</td>\n",
       "      <td>83</td>\n",
       "      <td>6</td>\n",
       "    </tr>\n",
       "  </tbody>\n",
       "</table>\n",
       "</div>"
      ],
      "text/plain": [
       "       book_id  author_id  book_genre  reader_id  num_pages  book_rating  \\\n",
       "99995     1951        355           9      26006        100            8   \n",
       "99996     2720        409           3       4604         93            6   \n",
       "99997      441        447           4      28843         90            5   \n",
       "99998     2610        185           6      15477         93            4   \n",
       "99999     1920        329           4      11991         88           10   \n",
       "\n",
       "       unlisher_id  publisher_year  book_price  text_lang  \n",
       "99995           49            2013         162          4  \n",
       "99996           36            2008         189          5  \n",
       "99997           19            2009         155          7  \n",
       "99998           23            2017          72          7  \n",
       "99999           19            2002          83          6  "
      ]
     },
     "execution_count": 3,
     "metadata": {},
     "output_type": "execute_result"
    }
   ],
   "source": [
    "df.tail()"
   ]
  },
  {
   "cell_type": "code",
   "execution_count": null,
   "metadata": {},
   "outputs": [],
   "source": []
  }
 ],
 "metadata": {
  "kernelspec": {
   "display_name": ".venv",
   "language": "python",
   "name": "python3"
  },
  "language_info": {
   "codemirror_mode": {
    "name": "ipython",
    "version": 3
   },
   "file_extension": ".py",
   "mimetype": "text/x-python",
   "name": "python",
   "nbconvert_exporter": "python",
   "pygments_lexer": "ipython3",
   "version": "3.9.16"
  },
  "orig_nbformat": 4
 },
 "nbformat": 4,
 "nbformat_minor": 2
}
